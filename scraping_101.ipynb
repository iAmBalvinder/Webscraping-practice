{
  "nbformat": 4,
  "nbformat_minor": 0,
  "metadata": {
    "colab": {
      "name": "scraping_101.ipynb",
      "provenance": [],
      "collapsed_sections": [],
      "include_colab_link": true
    },
    "kernelspec": {
      "name": "python3",
      "display_name": "Python 3"
    }
  },
  "cells": [
    {
      "cell_type": "markdown",
      "metadata": {
        "id": "view-in-github",
        "colab_type": "text"
      },
      "source": [
        "<a href=\"https://colab.research.google.com/github/iAmBalvinder/Webscraping-practice/blob/master/scraping_101.ipynb\" target=\"_parent\"><img src=\"https://colab.research.google.com/assets/colab-badge.svg\" alt=\"Open In Colab\"/></a>"
      ]
    },
    {
      "cell_type": "markdown",
      "metadata": {
        "id": "zh7ImU_HSBy0",
        "colab_type": "text"
      },
      "source": [
        "Google Doc Presentation\n",
        "\n",
        "https://docs.google.com/presentation/d/1aFKT7HibXCIm5Muf4uWvQW-HfCFIedKFi3y5YK2_Gkc/edit?usp=sharing"
      ]
    },
    {
      "cell_type": "markdown",
      "metadata": {
        "id": "7KLm3Q9oPR-f",
        "colab_type": "text"
      },
      "source": [
        "importing our libraries\n",
        "\n",
        "*   Requests: https://requests.kennethreitz.org/en/master/\n",
        "*   Scrapy: https://docs.scrapy.org/en/latest/\n"
      ]
    },
    {
      "cell_type": "code",
      "metadata": {
        "id": "2bQu9DjhLGve",
        "colab_type": "code",
        "colab": {
          "base_uri": "https://localhost:8080/",
          "height": 168
        },
        "outputId": "0d0f6a46-2979-4685-eef9-b0f92977f7eb"
      },
      "source": [
        "!pip install -q scrapy\n",
        "import requests\n",
        "import urllib.parse\n",
        "from scrapy.selector import Selector\n",
        "from scrapy.http import HtmlResponse\n",
        "from typing import Dict, List\n"
      ],
      "execution_count": 1,
      "outputs": [
        {
          "output_type": "stream",
          "text": [
            "\u001b[K     |████████████████████████████████| 245kB 2.8MB/s \n",
            "\u001b[K     |████████████████████████████████| 174kB 22.8MB/s \n",
            "\u001b[K     |████████████████████████████████| 61kB 7.9MB/s \n",
            "\u001b[K     |████████████████████████████████| 2.3MB 59.5MB/s \n",
            "\u001b[K     |████████████████████████████████| 3.2MB 48.5MB/s \n",
            "\u001b[K     |████████████████████████████████| 3.1MB 49.8MB/s \n",
            "\u001b[K     |████████████████████████████████| 61kB 8.8MB/s \n",
            "\u001b[?25h  Building wheel for protego (setup.py) ... \u001b[?25l\u001b[?25hdone\n",
            "  Building wheel for PyDispatcher (setup.py) ... \u001b[?25l\u001b[?25hdone\n"
          ],
          "name": "stdout"
        }
      ]
    },
    {
      "cell_type": "markdown",
      "metadata": {
        "id": "2sqemt866zNd",
        "colab_type": "text"
      },
      "source": [
        "A simple request to a book listing website: http://books.toscrape.com/"
      ]
    },
    {
      "cell_type": "code",
      "metadata": {
        "id": "sMqbUATFLHZP",
        "colab_type": "code",
        "colab": {}
      },
      "source": [
        "start_url = \"http://books.toscrape.com/\"\n",
        "response = requests.get(start_url)\n",
        "print(response.text)"
      ],
      "execution_count": 0,
      "outputs": []
    },
    {
      "cell_type": "markdown",
      "metadata": {
        "id": "1CKo9_SY7DGA",
        "colab_type": "text"
      },
      "source": [
        "generating a Scrapy response object"
      ]
    },
    {
      "cell_type": "code",
      "metadata": {
        "id": "jTNz2EhYMj3y",
        "colab_type": "code",
        "outputId": "573ebfd1-d988-43ea-a324-2121c4c76242",
        "colab": {
          "base_uri": "https://localhost:8080/",
          "height": 54
        }
      },
      "source": [
        "response = HtmlResponse(url=start_url, body=response.text, encoding=\"utf-8\")\n",
        "print(response.body)"
      ],
      "execution_count": 3,
      "outputs": [
        {
          "output_type": "stream",
          "text": [
            "b'<!DOCTYPE html>\\n<!--[if lt IE 7]>      <html lang=\"en-us\" class=\"no-js lt-ie9 lt-ie8 lt-ie7\"> <![endif]-->\\n<!--[if IE 7]>         <html lang=\"en-us\" class=\"no-js lt-ie9 lt-ie8\"> <![endif]-->\\n<!--[if IE 8]>         <html lang=\"en-us\" class=\"no-js lt-ie9\"> <![endif]-->\\n<!--[if gt IE 8]><!--> <html lang=\"en-us\" class=\"no-js\"> <!--<![endif]-->\\n    <head>\\n        <title>\\n    All products | Books to Scrape - Sandbox\\n</title>\\n\\n        <meta http-equiv=\"content-type\" content=\"text/html; charset=UTF-8\" />\\n        <meta name=\"created\" content=\"24th Jun 2016 09:29\" />\\n        <meta name=\"description\" content=\"\" />\\n        <meta name=\"viewport\" content=\"width=device-width\" />\\n        <meta name=\"robots\" content=\"NOARCHIVE,NOCACHE\" />\\n\\n        <!-- Le HTML5 shim, for IE6-8 support of HTML elements -->\\n        <!--[if lt IE 9]>\\n        <script src=\"//html5shim.googlecode.com/svn/trunk/html5.js\"></script>\\n        <![endif]-->\\n\\n        \\n            <link rel=\"shortcut icon\" href=\"static/oscar/favicon.ico\" />\\n        \\n\\n        \\n        \\n    \\n    \\n        <link rel=\"stylesheet\" type=\"text/css\" href=\"static/oscar/css/styles.css\" />\\n    \\n    <link rel=\"stylesheet\" href=\"static/oscar/js/bootstrap-datetimepicker/bootstrap-datetimepicker.css\" />\\n    <link rel=\"stylesheet\" type=\"text/css\" href=\"static/oscar/css/datetimepicker.css\" />\\n\\n\\n        \\n        \\n\\n        \\n\\n        \\n            \\n            \\n\\n        \\n    </head>\\n\\n    <body id=\"default\" class=\"default\">\\n        \\n        \\n    \\n    \\n    <header class=\"header container-fluid\">\\n        <div class=\"page_inner\">\\n            <div class=\"row\">\\n                <div class=\"col-sm-8 h1\"><a href=\"index.html\">Books to Scrape</a><small> We love being scraped!</small>\\n</div>\\n\\n                \\n            </div>\\n        </div>\\n    </header>\\n\\n    \\n    \\n<div class=\"container-fluid page\">\\n    <div class=\"page_inner\">\\n        \\n    <ul class=\"breadcrumb\">\\n        <li>\\n            <a href=\"index.html\">Home</a>\\n        </li>\\n        <li class=\"active\">All products</li>\\n    </ul>\\n\\n        <div class=\"row\">\\n\\n            <aside class=\"sidebar col-sm-4 col-md-3\">\\n                \\n                <div id=\"promotions_left\">\\n                    \\n                </div>\\n                \\n    \\n    \\n        \\n        <div class=\"side_categories\">\\n            <ul class=\"nav nav-list\">\\n                \\n                    <li>\\n                        <a href=\"catalogue/category/books_1/index.html\">\\n                            \\n                                Books\\n                            \\n                        </a>\\n\\n                        <ul>\\n                        \\n                \\n                    <li>\\n                        <a href=\"catalogue/category/books/travel_2/index.html\">\\n                            \\n                                Travel\\n                            \\n                        </a>\\n\\n                        </li>\\n                        \\n                \\n                    <li>\\n                        <a href=\"catalogue/category/books/mystery_3/index.html\">\\n                            \\n                                Mystery\\n                            \\n                        </a>\\n\\n                        </li>\\n                        \\n                \\n                    <li>\\n                        <a href=\"catalogue/category/books/historical-fiction_4/index.html\">\\n                            \\n                                Historical Fiction\\n                            \\n                        </a>\\n\\n                        </li>\\n                        \\n                \\n                    <li>\\n                        <a href=\"catalogue/category/books/sequential-art_5/index.html\">\\n                            \\n                                Sequential Art\\n                            \\n                        </a>\\n\\n                        </li>\\n                        \\n                \\n                    <li>\\n                        <a href=\"catalogue/category/books/classics_6/index.html\">\\n                            \\n                                Classics\\n                            \\n                        </a>\\n\\n                        </li>\\n                        \\n                \\n                    <li>\\n                        <a href=\"catalogue/category/books/philosophy_7/index.html\">\\n                            \\n                                Philosophy\\n                            \\n                        </a>\\n\\n                        </li>\\n                        \\n                \\n                    <li>\\n                        <a href=\"catalogue/category/books/romance_8/index.html\">\\n                            \\n                                Romance\\n                            \\n                        </a>\\n\\n                        </li>\\n                        \\n                \\n                    <li>\\n                        <a href=\"catalogue/category/books/womens-fiction_9/index.html\">\\n                            \\n                                Womens Fiction\\n                            \\n                        </a>\\n\\n                        </li>\\n                        \\n                \\n                    <li>\\n                        <a href=\"catalogue/category/books/fiction_10/index.html\">\\n                            \\n                                Fiction\\n                            \\n                        </a>\\n\\n                        </li>\\n                        \\n                \\n                    <li>\\n                        <a href=\"catalogue/category/books/childrens_11/index.html\">\\n                            \\n                                Childrens\\n                            \\n                        </a>\\n\\n                        </li>\\n                        \\n                \\n                    <li>\\n                        <a href=\"catalogue/category/books/religion_12/index.html\">\\n                            \\n                                Religion\\n                            \\n                        </a>\\n\\n                        </li>\\n                        \\n                \\n                    <li>\\n                        <a href=\"catalogue/category/books/nonfiction_13/index.html\">\\n                            \\n                                Nonfiction\\n                            \\n                        </a>\\n\\n                        </li>\\n                        \\n                \\n                    <li>\\n                        <a href=\"catalogue/category/books/music_14/index.html\">\\n                            \\n                                Music\\n                            \\n                        </a>\\n\\n                        </li>\\n                        \\n                \\n                    <li>\\n                        <a href=\"catalogue/category/books/default_15/index.html\">\\n                            \\n                                Default\\n                            \\n                        </a>\\n\\n                        </li>\\n                        \\n                \\n                    <li>\\n                        <a href=\"catalogue/category/books/science-fiction_16/index.html\">\\n                            \\n                                Science Fiction\\n                            \\n                        </a>\\n\\n                        </li>\\n                        \\n                \\n                    <li>\\n                        <a href=\"catalogue/category/books/sports-and-games_17/index.html\">\\n                            \\n                                Sports and Games\\n                            \\n                        </a>\\n\\n                        </li>\\n                        \\n                \\n                    <li>\\n                        <a href=\"catalogue/category/books/add-a-comment_18/index.html\">\\n                            \\n                                Add a comment\\n                            \\n                        </a>\\n\\n                        </li>\\n                        \\n                \\n                    <li>\\n                        <a href=\"catalogue/category/books/fantasy_19/index.html\">\\n                            \\n                                Fantasy\\n                            \\n                        </a>\\n\\n                        </li>\\n                        \\n                \\n                    <li>\\n                        <a href=\"catalogue/category/books/new-adult_20/index.html\">\\n                            \\n                                New Adult\\n                            \\n                        </a>\\n\\n                        </li>\\n                        \\n                \\n                    <li>\\n                        <a href=\"catalogue/category/books/young-adult_21/index.html\">\\n                            \\n                                Young Adult\\n                            \\n                        </a>\\n\\n                        </li>\\n                        \\n                \\n                    <li>\\n                        <a href=\"catalogue/category/books/science_22/index.html\">\\n                            \\n                                Science\\n                            \\n                        </a>\\n\\n                        </li>\\n                        \\n                \\n                    <li>\\n                        <a href=\"catalogue/category/books/poetry_23/index.html\">\\n                            \\n                                Poetry\\n                            \\n                        </a>\\n\\n                        </li>\\n                        \\n                \\n                    <li>\\n                        <a href=\"catalogue/category/books/paranormal_24/index.html\">\\n                            \\n                                Paranormal\\n                            \\n                        </a>\\n\\n                        </li>\\n                        \\n                \\n                    <li>\\n                        <a href=\"catalogue/category/books/art_25/index.html\">\\n                            \\n                                Art\\n                            \\n                        </a>\\n\\n                        </li>\\n                        \\n                \\n                    <li>\\n                        <a href=\"catalogue/category/books/psychology_26/index.html\">\\n                            \\n                                Psychology\\n                            \\n                        </a>\\n\\n                        </li>\\n                        \\n                \\n                    <li>\\n                        <a href=\"catalogue/category/books/autobiography_27/index.html\">\\n                            \\n                                Autobiography\\n                            \\n                        </a>\\n\\n                        </li>\\n                        \\n                \\n                    <li>\\n                        <a href=\"catalogue/category/books/parenting_28/index.html\">\\n                            \\n                                Parenting\\n                            \\n                        </a>\\n\\n                        </li>\\n                        \\n                \\n                    <li>\\n                        <a href=\"catalogue/category/books/adult-fiction_29/index.html\">\\n                            \\n                                Adult Fiction\\n                            \\n                        </a>\\n\\n                        </li>\\n                        \\n                \\n                    <li>\\n                        <a href=\"catalogue/category/books/humor_30/index.html\">\\n                            \\n                                Humor\\n                            \\n                        </a>\\n\\n                        </li>\\n                        \\n                \\n                    <li>\\n                        <a href=\"catalogue/category/books/horror_31/index.html\">\\n                            \\n                                Horror\\n                            \\n                        </a>\\n\\n                        </li>\\n                        \\n                \\n                    <li>\\n                        <a href=\"catalogue/category/books/history_32/index.html\">\\n                            \\n                                History\\n                            \\n                        </a>\\n\\n                        </li>\\n                        \\n                \\n                    <li>\\n                        <a href=\"catalogue/category/books/food-and-drink_33/index.html\">\\n                            \\n                                Food and Drink\\n                            \\n                        </a>\\n\\n                        </li>\\n                        \\n                \\n                    <li>\\n                        <a href=\"catalogue/category/books/christian-fiction_34/index.html\">\\n                            \\n                                Christian Fiction\\n                            \\n                        </a>\\n\\n                        </li>\\n                        \\n                \\n                    <li>\\n                        <a href=\"catalogue/category/books/business_35/index.html\">\\n                            \\n                                Business\\n                            \\n                        </a>\\n\\n                        </li>\\n                        \\n                \\n                    <li>\\n                        <a href=\"catalogue/category/books/biography_36/index.html\">\\n                            \\n                                Biography\\n                            \\n                        </a>\\n\\n                        </li>\\n                        \\n                \\n                    <li>\\n                        <a href=\"catalogue/category/books/thriller_37/index.html\">\\n                            \\n                                Thriller\\n                            \\n                        </a>\\n\\n                        </li>\\n                        \\n                \\n                    <li>\\n                        <a href=\"catalogue/category/books/contemporary_38/index.html\">\\n                            \\n                                Contemporary\\n                            \\n                        </a>\\n\\n                        </li>\\n                        \\n                \\n                    <li>\\n                        <a href=\"catalogue/category/books/spirituality_39/index.html\">\\n                            \\n                                Spirituality\\n                            \\n                        </a>\\n\\n                        </li>\\n                        \\n                \\n                    <li>\\n                        <a href=\"catalogue/category/books/academic_40/index.html\">\\n                            \\n                                Academic\\n                            \\n                        </a>\\n\\n                        </li>\\n                        \\n                \\n                    <li>\\n                        <a href=\"catalogue/category/books/self-help_41/index.html\">\\n                            \\n                                Self Help\\n                            \\n                        </a>\\n\\n                        </li>\\n                        \\n                \\n                    <li>\\n                        <a href=\"catalogue/category/books/historical_42/index.html\">\\n                            \\n                                Historical\\n                            \\n                        </a>\\n\\n                        </li>\\n                        \\n                \\n                    <li>\\n                        <a href=\"catalogue/category/books/christian_43/index.html\">\\n                            \\n                                Christian\\n                            \\n                        </a>\\n\\n                        </li>\\n                        \\n                \\n                    <li>\\n                        <a href=\"catalogue/category/books/suspense_44/index.html\">\\n                            \\n                                Suspense\\n                            \\n                        </a>\\n\\n                        </li>\\n                        \\n                \\n                    <li>\\n                        <a href=\"catalogue/category/books/short-stories_45/index.html\">\\n                            \\n                                Short Stories\\n                            \\n                        </a>\\n\\n                        </li>\\n                        \\n                \\n                    <li>\\n                        <a href=\"catalogue/category/books/novels_46/index.html\">\\n                            \\n                                Novels\\n                            \\n                        </a>\\n\\n                        </li>\\n                        \\n                \\n                    <li>\\n                        <a href=\"catalogue/category/books/health_47/index.html\">\\n                            \\n                                Health\\n                            \\n                        </a>\\n\\n                        </li>\\n                        \\n                \\n                    <li>\\n                        <a href=\"catalogue/category/books/politics_48/index.html\">\\n                            \\n                                Politics\\n                            \\n                        </a>\\n\\n                        </li>\\n                        \\n                \\n                    <li>\\n                        <a href=\"catalogue/category/books/cultural_49/index.html\">\\n                            \\n                                Cultural\\n                            \\n                        </a>\\n\\n                        </li>\\n                        \\n                \\n                    <li>\\n                        <a href=\"catalogue/category/books/erotica_50/index.html\">\\n                            \\n                                Erotica\\n                            \\n                        </a>\\n\\n                        </li>\\n                        \\n                \\n                    <li>\\n                        <a href=\"catalogue/category/books/crime_51/index.html\">\\n                            \\n                                Crime\\n                            \\n                        </a>\\n\\n                        </li>\\n                        \\n                            </ul></li>\\n                        \\n                \\n            </ul>\\n        </div>\\n    \\n    \\n\\n            </aside>\\n\\n            <div class=\"col-sm-8 col-md-9\">\\n                \\n                <div class=\"page-header action\">\\n                    <h1>All products</h1>\\n                </div>\\n                \\n\\n                \\n\\n\\n\\n<div id=\"messages\">\\n\\n</div>\\n\\n\\n                <div id=\"promotions\">\\n                    \\n                </div>\\n\\n                \\n    <form method=\"get\" class=\"form-horizontal\">\\n        \\n        <div style=\"display:none\">\\n            \\n            \\n        </div>\\n\\n        \\n            \\n                \\n                    <strong>1000</strong> results - showing <strong>1</strong> to <strong>20</strong>.\\n                \\n            \\n            \\n        \\n    </form>\\n    \\n        <section>\\n            <div class=\"alert alert-warning\" role=\"alert\"><strong>Warning!</strong> This is a demo website for web scraping purposes. Prices and ratings here were randomly assigned and have no real meaning.</div>\\n\\n            <div>\\n                <ol class=\"row\">\\n                    \\n                        <li class=\"col-xs-6 col-sm-4 col-md-3 col-lg-3\">\\n\\n\\n\\n\\n\\n\\n    <article class=\"product_pod\">\\n        \\n            <div class=\"image_container\">\\n                \\n                    \\n                    <a href=\"catalogue/a-light-in-the-attic_1000/index.html\"><img src=\"media/cache/2c/da/2cdad67c44b002e7ead0cc35693c0e8b.jpg\" alt=\"A Light in the Attic\" class=\"thumbnail\"></a>\\n                    \\n                \\n            </div>\\n        \\n\\n        \\n            \\n                <p class=\"star-rating Three\">\\n                    <i class=\"icon-star\"></i>\\n                    <i class=\"icon-star\"></i>\\n                    <i class=\"icon-star\"></i>\\n                    <i class=\"icon-star\"></i>\\n                    <i class=\"icon-star\"></i>\\n                </p>\\n            \\n        \\n\\n        \\n            <h3><a href=\"catalogue/a-light-in-the-attic_1000/index.html\" title=\"A Light in the Attic\">A Light in the ...</a></h3>\\n        \\n\\n        \\n            <div class=\"product_price\">\\n                \\n\\n\\n\\n\\n\\n\\n    \\n        <p class=\"price_color\">\\xc3\\x82\\xc2\\xa351.77</p>\\n    \\n\\n<p class=\"instock availability\">\\n    <i class=\"icon-ok\"></i>\\n    \\n        In stock\\n    \\n</p>\\n\\n                \\n                    \\n\\n\\n\\n\\n\\n\\n    \\n    <form>\\n        <button type=\"submit\" class=\"btn btn-primary btn-block\" data-loading-text=\"Adding...\">Add to basket</button>\\n    </form>\\n\\n\\n                \\n            </div>\\n        \\n    </article>\\n\\n</li>\\n                    \\n                        <li class=\"col-xs-6 col-sm-4 col-md-3 col-lg-3\">\\n\\n\\n\\n\\n\\n\\n    <article class=\"product_pod\">\\n        \\n            <div class=\"image_container\">\\n                \\n                    \\n                    <a href=\"catalogue/tipping-the-velvet_999/index.html\"><img src=\"media/cache/26/0c/260c6ae16bce31c8f8c95daddd9f4a1c.jpg\" alt=\"Tipping the Velvet\" class=\"thumbnail\"></a>\\n                    \\n                \\n            </div>\\n        \\n\\n        \\n            \\n                <p class=\"star-rating One\">\\n                    <i class=\"icon-star\"></i>\\n                    <i class=\"icon-star\"></i>\\n                    <i class=\"icon-star\"></i>\\n                    <i class=\"icon-star\"></i>\\n                    <i class=\"icon-star\"></i>\\n                </p>\\n            \\n        \\n\\n        \\n            <h3><a href=\"catalogue/tipping-the-velvet_999/index.html\" title=\"Tipping the Velvet\">Tipping the Velvet</a></h3>\\n        \\n\\n        \\n            <div class=\"product_price\">\\n                \\n\\n\\n\\n\\n\\n\\n    \\n        <p class=\"price_color\">\\xc3\\x82\\xc2\\xa353.74</p>\\n    \\n\\n<p class=\"instock availability\">\\n    <i class=\"icon-ok\"></i>\\n    \\n        In stock\\n    \\n</p>\\n\\n                \\n                    \\n\\n\\n\\n\\n\\n\\n    \\n    <form>\\n        <button type=\"submit\" class=\"btn btn-primary btn-block\" data-loading-text=\"Adding...\">Add to basket</button>\\n    </form>\\n\\n\\n                \\n            </div>\\n        \\n    </article>\\n\\n</li>\\n                    \\n                        <li class=\"col-xs-6 col-sm-4 col-md-3 col-lg-3\">\\n\\n\\n\\n\\n\\n\\n    <article class=\"product_pod\">\\n        \\n            <div class=\"image_container\">\\n                \\n                    \\n                    <a href=\"catalogue/soumission_998/index.html\"><img src=\"media/cache/3e/ef/3eef99c9d9adef34639f510662022830.jpg\" alt=\"Soumission\" class=\"thumbnail\"></a>\\n                    \\n                \\n            </div>\\n        \\n\\n        \\n            \\n                <p class=\"star-rating One\">\\n                    <i class=\"icon-star\"></i>\\n                    <i class=\"icon-star\"></i>\\n                    <i class=\"icon-star\"></i>\\n                    <i class=\"icon-star\"></i>\\n                    <i class=\"icon-star\"></i>\\n                </p>\\n            \\n        \\n\\n        \\n            <h3><a href=\"catalogue/soumission_998/index.html\" title=\"Soumission\">Soumission</a></h3>\\n        \\n\\n        \\n            <div class=\"product_price\">\\n                \\n\\n\\n\\n\\n\\n\\n    \\n        <p class=\"price_color\">\\xc3\\x82\\xc2\\xa350.10</p>\\n    \\n\\n<p class=\"instock availability\">\\n    <i class=\"icon-ok\"></i>\\n    \\n        In stock\\n    \\n</p>\\n\\n                \\n                    \\n\\n\\n\\n\\n\\n\\n    \\n    <form>\\n        <button type=\"submit\" class=\"btn btn-primary btn-block\" data-loading-text=\"Adding...\">Add to basket</button>\\n    </form>\\n\\n\\n                \\n            </div>\\n        \\n    </article>\\n\\n</li>\\n                    \\n                        <li class=\"col-xs-6 col-sm-4 col-md-3 col-lg-3\">\\n\\n\\n\\n\\n\\n\\n    <article class=\"product_pod\">\\n        \\n            <div class=\"image_container\">\\n                \\n                    \\n                    <a href=\"catalogue/sharp-objects_997/index.html\"><img src=\"media/cache/32/51/3251cf3a3412f53f339e42cac2134093.jpg\" alt=\"Sharp Objects\" class=\"thumbnail\"></a>\\n                    \\n                \\n            </div>\\n        \\n\\n        \\n            \\n                <p class=\"star-rating Four\">\\n                    <i class=\"icon-star\"></i>\\n                    <i class=\"icon-star\"></i>\\n                    <i class=\"icon-star\"></i>\\n                    <i class=\"icon-star\"></i>\\n                    <i class=\"icon-star\"></i>\\n                </p>\\n            \\n        \\n\\n        \\n            <h3><a href=\"catalogue/sharp-objects_997/index.html\" title=\"Sharp Objects\">Sharp Objects</a></h3>\\n        \\n\\n        \\n            <div class=\"product_price\">\\n                \\n\\n\\n\\n\\n\\n\\n    \\n        <p class=\"price_color\">\\xc3\\x82\\xc2\\xa347.82</p>\\n    \\n\\n<p class=\"instock availability\">\\n    <i class=\"icon-ok\"></i>\\n    \\n        In stock\\n    \\n</p>\\n\\n                \\n                    \\n\\n\\n\\n\\n\\n\\n    \\n    <form>\\n        <button type=\"submit\" class=\"btn btn-primary btn-block\" data-loading-text=\"Adding...\">Add to basket</button>\\n    </form>\\n\\n\\n                \\n            </div>\\n        \\n    </article>\\n\\n</li>\\n                    \\n                        <li class=\"col-xs-6 col-sm-4 col-md-3 col-lg-3\">\\n\\n\\n\\n\\n\\n\\n    <article class=\"product_pod\">\\n        \\n            <div class=\"image_container\">\\n                \\n                    \\n                    <a href=\"catalogue/sapiens-a-brief-history-of-humankind_996/index.html\"><img src=\"media/cache/be/a5/bea5697f2534a2f86a3ef27b5a8c12a6.jpg\" alt=\"Sapiens: A Brief History of Humankind\" class=\"thumbnail\"></a>\\n                    \\n                \\n            </div>\\n        \\n\\n        \\n            \\n                <p class=\"star-rating Five\">\\n                    <i class=\"icon-star\"></i>\\n                    <i class=\"icon-star\"></i>\\n                    <i class=\"icon-star\"></i>\\n                    <i class=\"icon-star\"></i>\\n                    <i class=\"icon-star\"></i>\\n                </p>\\n            \\n        \\n\\n        \\n            <h3><a href=\"catalogue/sapiens-a-brief-history-of-humankind_996/index.html\" title=\"Sapiens: A Brief History of Humankind\">Sapiens: A Brief History ...</a></h3>\\n        \\n\\n        \\n            <div class=\"product_price\">\\n                \\n\\n\\n\\n\\n\\n\\n    \\n        <p class=\"price_color\">\\xc3\\x82\\xc2\\xa354.23</p>\\n    \\n\\n<p class=\"instock availability\">\\n    <i class=\"icon-ok\"></i>\\n    \\n        In stock\\n    \\n</p>\\n\\n                \\n                    \\n\\n\\n\\n\\n\\n\\n    \\n    <form>\\n        <button type=\"submit\" class=\"btn btn-primary btn-block\" data-loading-text=\"Adding...\">Add to basket</button>\\n    </form>\\n\\n\\n                \\n            </div>\\n        \\n    </article>\\n\\n</li>\\n                    \\n                        <li class=\"col-xs-6 col-sm-4 col-md-3 col-lg-3\">\\n\\n\\n\\n\\n\\n\\n    <article class=\"product_pod\">\\n        \\n            <div class=\"image_container\">\\n                \\n                    \\n                    <a href=\"catalogue/the-requiem-red_995/index.html\"><img src=\"media/cache/68/33/68339b4c9bc034267e1da611ab3b34f8.jpg\" alt=\"The Requiem Red\" class=\"thumbnail\"></a>\\n                    \\n                \\n            </div>\\n        \\n\\n        \\n            \\n                <p class=\"star-rating One\">\\n                    <i class=\"icon-star\"></i>\\n                    <i class=\"icon-star\"></i>\\n                    <i class=\"icon-star\"></i>\\n                    <i class=\"icon-star\"></i>\\n                    <i class=\"icon-star\"></i>\\n                </p>\\n            \\n        \\n\\n        \\n            <h3><a href=\"catalogue/the-requiem-red_995/index.html\" title=\"The Requiem Red\">The Requiem Red</a></h3>\\n        \\n\\n        \\n            <div class=\"product_price\">\\n                \\n\\n\\n\\n\\n\\n\\n    \\n        <p class=\"price_color\">\\xc3\\x82\\xc2\\xa322.65</p>\\n    \\n\\n<p class=\"instock availability\">\\n    <i class=\"icon-ok\"></i>\\n    \\n        In stock\\n    \\n</p>\\n\\n                \\n                    \\n\\n\\n\\n\\n\\n\\n    \\n    <form>\\n        <button type=\"submit\" class=\"btn btn-primary btn-block\" data-loading-text=\"Adding...\">Add to basket</button>\\n    </form>\\n\\n\\n                \\n            </div>\\n        \\n    </article>\\n\\n</li>\\n                    \\n                        <li class=\"col-xs-6 col-sm-4 col-md-3 col-lg-3\">\\n\\n\\n\\n\\n\\n\\n    <article class=\"product_pod\">\\n        \\n            <div class=\"image_container\">\\n                \\n                    \\n                    <a href=\"catalogue/the-dirty-little-secrets-of-getting-your-dream-job_994/index.html\"><img src=\"media/cache/92/27/92274a95b7c251fea59a2b8a78275ab4.jpg\" alt=\"The Dirty Little Secrets of Getting Your Dream Job\" class=\"thumbnail\"></a>\\n                    \\n                \\n            </div>\\n        \\n\\n        \\n            \\n                <p class=\"star-rating Four\">\\n                    <i class=\"icon-star\"></i>\\n                    <i class=\"icon-star\"></i>\\n                    <i class=\"icon-star\"></i>\\n                    <i class=\"icon-star\"></i>\\n                    <i class=\"icon-star\"></i>\\n                </p>\\n            \\n        \\n\\n        \\n            <h3><a href=\"catalogue/the-dirty-little-secrets-of-getting-your-dream-job_994/index.html\" title=\"The Dirty Little Secrets of Getting Your Dream Job\">The Dirty Little Secrets ...</a></h3>\\n        \\n\\n        \\n            <div class=\"product_price\">\\n                \\n\\n\\n\\n\\n\\n\\n    \\n        <p class=\"price_color\">\\xc3\\x82\\xc2\\xa333.34</p>\\n    \\n\\n<p class=\"instock availability\">\\n    <i class=\"icon-ok\"></i>\\n    \\n        In stock\\n    \\n</p>\\n\\n                \\n                    \\n\\n\\n\\n\\n\\n\\n    \\n    <form>\\n        <button type=\"submit\" class=\"btn btn-primary btn-block\" data-loading-text=\"Adding...\">Add to basket</button>\\n    </form>\\n\\n\\n                \\n            </div>\\n        \\n    </article>\\n\\n</li>\\n                    \\n                        <li class=\"col-xs-6 col-sm-4 col-md-3 col-lg-3\">\\n\\n\\n\\n\\n\\n\\n    <article class=\"product_pod\">\\n        \\n            <div class=\"image_container\">\\n                \\n                    \\n                    <a href=\"catalogue/the-coming-woman-a-novel-based-on-the-life-of-the-infamous-feminist-victoria-woodhull_993/index.html\"><img src=\"media/cache/3d/54/3d54940e57e662c4dd1f3ff00c78cc64.jpg\" alt=\"The Coming Woman: A Novel Based on the Life of the Infamous Feminist, Victoria Woodhull\" class=\"thumbnail\"></a>\\n                    \\n                \\n            </div>\\n        \\n\\n        \\n            \\n                <p class=\"star-rating Three\">\\n                    <i class=\"icon-star\"></i>\\n                    <i class=\"icon-star\"></i>\\n                    <i class=\"icon-star\"></i>\\n                    <i class=\"icon-star\"></i>\\n                    <i class=\"icon-star\"></i>\\n                </p>\\n            \\n        \\n\\n        \\n            <h3><a href=\"catalogue/the-coming-woman-a-novel-based-on-the-life-of-the-infamous-feminist-victoria-woodhull_993/index.html\" title=\"The Coming Woman: A Novel Based on the Life of the Infamous Feminist, Victoria Woodhull\">The Coming Woman: A ...</a></h3>\\n        \\n\\n        \\n            <div class=\"product_price\">\\n                \\n\\n\\n\\n\\n\\n\\n    \\n        <p class=\"price_color\">\\xc3\\x82\\xc2\\xa317.93</p>\\n    \\n\\n<p class=\"instock availability\">\\n    <i class=\"icon-ok\"></i>\\n    \\n        In stock\\n    \\n</p>\\n\\n                \\n                    \\n\\n\\n\\n\\n\\n\\n    \\n    <form>\\n        <button type=\"submit\" class=\"btn btn-primary btn-block\" data-loading-text=\"Adding...\">Add to basket</button>\\n    </form>\\n\\n\\n                \\n            </div>\\n        \\n    </article>\\n\\n</li>\\n                    \\n                        <li class=\"col-xs-6 col-sm-4 col-md-3 col-lg-3\">\\n\\n\\n\\n\\n\\n\\n    <article class=\"product_pod\">\\n        \\n            <div class=\"image_container\">\\n                \\n                    \\n                    <a href=\"catalogue/the-boys-in-the-boat-nine-americans-and-their-epic-quest-for-gold-at-the-1936-berlin-olympics_992/index.html\"><img src=\"media/cache/66/88/66883b91f6804b2323c8369331cb7dd1.jpg\" alt=\"The Boys in the Boat: Nine Americans and Their Epic Quest for Gold at the 1936 Berlin Olympics\" class=\"thumbnail\"></a>\\n                    \\n                \\n            </div>\\n        \\n\\n        \\n            \\n                <p class=\"star-rating Four\">\\n                    <i class=\"icon-star\"></i>\\n                    <i class=\"icon-star\"></i>\\n                    <i class=\"icon-star\"></i>\\n                    <i class=\"icon-star\"></i>\\n                    <i class=\"icon-star\"></i>\\n                </p>\\n            \\n        \\n\\n        \\n            <h3><a href=\"catalogue/the-boys-in-the-boat-nine-americans-and-their-epic-quest-for-gold-at-the-1936-berlin-olympics_992/index.html\" title=\"The Boys in the Boat: Nine Americans and Their Epic Quest for Gold at the 1936 Berlin Olympics\">The Boys in the ...</a></h3>\\n        \\n\\n        \\n            <div class=\"product_price\">\\n                \\n\\n\\n\\n\\n\\n\\n    \\n        <p class=\"price_color\">\\xc3\\x82\\xc2\\xa322.60</p>\\n    \\n\\n<p class=\"instock availability\">\\n    <i class=\"icon-ok\"></i>\\n    \\n        In stock\\n    \\n</p>\\n\\n                \\n                    \\n\\n\\n\\n\\n\\n\\n    \\n    <form>\\n        <button type=\"submit\" class=\"btn btn-primary btn-block\" data-loading-text=\"Adding...\">Add to basket</button>\\n    </form>\\n\\n\\n                \\n            </div>\\n        \\n    </article>\\n\\n</li>\\n                    \\n                        <li class=\"col-xs-6 col-sm-4 col-md-3 col-lg-3\">\\n\\n\\n\\n\\n\\n\\n    <article class=\"product_pod\">\\n        \\n            <div class=\"image_container\">\\n                \\n                    \\n                    <a href=\"catalogue/the-black-maria_991/index.html\"><img src=\"media/cache/58/46/5846057e28022268153beff6d352b06c.jpg\" alt=\"The Black Maria\" class=\"thumbnail\"></a>\\n                    \\n                \\n            </div>\\n        \\n\\n        \\n            \\n                <p class=\"star-rating One\">\\n                    <i class=\"icon-star\"></i>\\n                    <i class=\"icon-star\"></i>\\n                    <i class=\"icon-star\"></i>\\n                    <i class=\"icon-star\"></i>\\n                    <i class=\"icon-star\"></i>\\n                </p>\\n            \\n        \\n\\n        \\n            <h3><a href=\"catalogue/the-black-maria_991/index.html\" title=\"The Black Maria\">The Black Maria</a></h3>\\n        \\n\\n        \\n            <div class=\"product_price\">\\n                \\n\\n\\n\\n\\n\\n\\n    \\n        <p class=\"price_color\">\\xc3\\x82\\xc2\\xa352.15</p>\\n    \\n\\n<p class=\"instock availability\">\\n    <i class=\"icon-ok\"></i>\\n    \\n        In stock\\n    \\n</p>\\n\\n                \\n                    \\n\\n\\n\\n\\n\\n\\n    \\n    <form>\\n        <button type=\"submit\" class=\"btn btn-primary btn-block\" data-loading-text=\"Adding...\">Add to basket</button>\\n    </form>\\n\\n\\n                \\n            </div>\\n        \\n    </article>\\n\\n</li>\\n                    \\n                        <li class=\"col-xs-6 col-sm-4 col-md-3 col-lg-3\">\\n\\n\\n\\n\\n\\n\\n    <article class=\"product_pod\">\\n        \\n            <div class=\"image_container\">\\n                \\n                    \\n                    <a href=\"catalogue/starving-hearts-triangular-trade-trilogy-1_990/index.html\"><img src=\"media/cache/be/f4/bef44da28c98f905a3ebec0b87be8530.jpg\" alt=\"Starving Hearts (Triangular Trade Trilogy, #1)\" class=\"thumbnail\"></a>\\n                    \\n                \\n            </div>\\n        \\n\\n        \\n            \\n                <p class=\"star-rating Two\">\\n                    <i class=\"icon-star\"></i>\\n                    <i class=\"icon-star\"></i>\\n                    <i class=\"icon-star\"></i>\\n                    <i class=\"icon-star\"></i>\\n                    <i class=\"icon-star\"></i>\\n                </p>\\n            \\n        \\n\\n        \\n            <h3><a href=\"catalogue/starving-hearts-triangular-trade-trilogy-1_990/index.html\" title=\"Starving Hearts (Triangular Trade Trilogy, #1)\">Starving Hearts (Triangular Trade ...</a></h3>\\n        \\n\\n        \\n            <div class=\"product_price\">\\n                \\n\\n\\n\\n\\n\\n\\n    \\n        <p class=\"price_color\">\\xc3\\x82\\xc2\\xa313.99</p>\\n    \\n\\n<p class=\"instock availability\">\\n    <i class=\"icon-ok\"></i>\\n    \\n        In stock\\n    \\n</p>\\n\\n                \\n                    \\n\\n\\n\\n\\n\\n\\n    \\n    <form>\\n        <button type=\"submit\" class=\"btn btn-primary btn-block\" data-loading-text=\"Adding...\">Add to basket</button>\\n    </form>\\n\\n\\n                \\n            </div>\\n        \\n    </article>\\n\\n</li>\\n                    \\n                        <li class=\"col-xs-6 col-sm-4 col-md-3 col-lg-3\">\\n\\n\\n\\n\\n\\n\\n    <article class=\"product_pod\">\\n        \\n            <div class=\"image_container\">\\n                \\n                    \\n                    <a href=\"catalogue/shakespeares-sonnets_989/index.html\"><img src=\"media/cache/10/48/1048f63d3b5061cd2f424d20b3f9b666.jpg\" alt=\"Shakespeare&#39;s Sonnets\" class=\"thumbnail\"></a>\\n                    \\n                \\n            </div>\\n        \\n\\n        \\n            \\n                <p class=\"star-rating Four\">\\n                    <i class=\"icon-star\"></i>\\n                    <i class=\"icon-star\"></i>\\n                    <i class=\"icon-star\"></i>\\n                    <i class=\"icon-star\"></i>\\n                    <i class=\"icon-star\"></i>\\n                </p>\\n            \\n        \\n\\n        \\n            <h3><a href=\"catalogue/shakespeares-sonnets_989/index.html\" title=\"Shakespeare&#39;s Sonnets\">Shakespeare&#39;s Sonnets</a></h3>\\n        \\n\\n        \\n            <div class=\"product_price\">\\n                \\n\\n\\n\\n\\n\\n\\n    \\n        <p class=\"price_color\">\\xc3\\x82\\xc2\\xa320.66</p>\\n    \\n\\n<p class=\"instock availability\">\\n    <i class=\"icon-ok\"></i>\\n    \\n        In stock\\n    \\n</p>\\n\\n                \\n                    \\n\\n\\n\\n\\n\\n\\n    \\n    <form>\\n        <button type=\"submit\" class=\"btn btn-primary btn-block\" data-loading-text=\"Adding...\">Add to basket</button>\\n    </form>\\n\\n\\n                \\n            </div>\\n        \\n    </article>\\n\\n</li>\\n                    \\n                        <li class=\"col-xs-6 col-sm-4 col-md-3 col-lg-3\">\\n\\n\\n\\n\\n\\n\\n    <article class=\"product_pod\">\\n        \\n            <div class=\"image_container\">\\n                \\n                    \\n                    <a href=\"catalogue/set-me-free_988/index.html\"><img src=\"media/cache/5b/88/5b88c52633f53cacf162c15f4f823153.jpg\" alt=\"Set Me Free\" class=\"thumbnail\"></a>\\n                    \\n                \\n            </div>\\n        \\n\\n        \\n            \\n                <p class=\"star-rating Five\">\\n                    <i class=\"icon-star\"></i>\\n                    <i class=\"icon-star\"></i>\\n                    <i class=\"icon-star\"></i>\\n                    <i class=\"icon-star\"></i>\\n                    <i class=\"icon-star\"></i>\\n                </p>\\n            \\n        \\n\\n        \\n            <h3><a href=\"catalogue/set-me-free_988/index.html\" title=\"Set Me Free\">Set Me Free</a></h3>\\n        \\n\\n        \\n            <div class=\"product_price\">\\n                \\n\\n\\n\\n\\n\\n\\n    \\n        <p class=\"price_color\">\\xc3\\x82\\xc2\\xa317.46</p>\\n    \\n\\n<p class=\"instock availability\">\\n    <i class=\"icon-ok\"></i>\\n    \\n        In stock\\n    \\n</p>\\n\\n                \\n                    \\n\\n\\n\\n\\n\\n\\n    \\n    <form>\\n        <button type=\"submit\" class=\"btn btn-primary btn-block\" data-loading-text=\"Adding...\">Add to basket</button>\\n    </form>\\n\\n\\n                \\n            </div>\\n        \\n    </article>\\n\\n</li>\\n                    \\n                        <li class=\"col-xs-6 col-sm-4 col-md-3 col-lg-3\">\\n\\n\\n\\n\\n\\n\\n    <article class=\"product_pod\">\\n        \\n            <div class=\"image_container\">\\n                \\n                    \\n                    <a href=\"catalogue/scott-pilgrims-precious-little-life-scott-pilgrim-1_987/index.html\"><img src=\"media/cache/94/b1/94b1b8b244bce9677c2f29ccc890d4d2.jpg\" alt=\"Scott Pilgrim&#39;s Precious Little Life (Scott Pilgrim #1)\" class=\"thumbnail\"></a>\\n                    \\n                \\n            </div>\\n        \\n\\n        \\n            \\n                <p class=\"star-rating Five\">\\n                    <i class=\"icon-star\"></i>\\n                    <i class=\"icon-star\"></i>\\n                    <i class=\"icon-star\"></i>\\n                    <i class=\"icon-star\"></i>\\n                    <i class=\"icon-star\"></i>\\n                </p>\\n            \\n        \\n\\n        \\n            <h3><a href=\"catalogue/scott-pilgrims-precious-little-life-scott-pilgrim-1_987/index.html\" title=\"Scott Pilgrim&#39;s Precious Little Life (Scott Pilgrim #1)\">Scott Pilgrim&#39;s Precious Little ...</a></h3>\\n        \\n\\n        \\n            <div class=\"product_price\">\\n                \\n\\n\\n\\n\\n\\n\\n    \\n        <p class=\"price_color\">\\xc3\\x82\\xc2\\xa352.29</p>\\n    \\n\\n<p class=\"instock availability\">\\n    <i class=\"icon-ok\"></i>\\n    \\n        In stock\\n    \\n</p>\\n\\n                \\n                    \\n\\n\\n\\n\\n\\n\\n    \\n    <form>\\n        <button type=\"submit\" class=\"btn btn-primary btn-block\" data-loading-text=\"Adding...\">Add to basket</button>\\n    </form>\\n\\n\\n                \\n            </div>\\n        \\n    </article>\\n\\n</li>\\n                    \\n                        <li class=\"col-xs-6 col-sm-4 col-md-3 col-lg-3\">\\n\\n\\n\\n\\n\\n\\n    <article class=\"product_pod\">\\n        \\n            <div class=\"image_container\">\\n                \\n                    \\n                    <a href=\"catalogue/rip-it-up-and-start-again_986/index.html\"><img src=\"media/cache/81/c4/81c4a973364e17d01f217e1188253d5e.jpg\" alt=\"Rip it Up and Start Again\" class=\"thumbnail\"></a>\\n                    \\n                \\n            </div>\\n        \\n\\n        \\n            \\n                <p class=\"star-rating Five\">\\n                    <i class=\"icon-star\"></i>\\n                    <i class=\"icon-star\"></i>\\n                    <i class=\"icon-star\"></i>\\n                    <i class=\"icon-star\"></i>\\n                    <i class=\"icon-star\"></i>\\n                </p>\\n            \\n        \\n\\n        \\n            <h3><a href=\"catalogue/rip-it-up-and-start-again_986/index.html\" title=\"Rip it Up and Start Again\">Rip it Up and ...</a></h3>\\n        \\n\\n        \\n            <div class=\"product_price\">\\n                \\n\\n\\n\\n\\n\\n\\n    \\n        <p class=\"price_color\">\\xc3\\x82\\xc2\\xa335.02</p>\\n    \\n\\n<p class=\"instock availability\">\\n    <i class=\"icon-ok\"></i>\\n    \\n        In stock\\n    \\n</p>\\n\\n                \\n                    \\n\\n\\n\\n\\n\\n\\n    \\n    <form>\\n        <button type=\"submit\" class=\"btn btn-primary btn-block\" data-loading-text=\"Adding...\">Add to basket</button>\\n    </form>\\n\\n\\n                \\n            </div>\\n        \\n    </article>\\n\\n</li>\\n                    \\n                        <li class=\"col-xs-6 col-sm-4 col-md-3 col-lg-3\">\\n\\n\\n\\n\\n\\n\\n    <article class=\"product_pod\">\\n        \\n            <div class=\"image_container\">\\n                \\n                    \\n                    <a href=\"catalogue/our-band-could-be-your-life-scenes-from-the-american-indie-underground-1981-1991_985/index.html\"><img src=\"media/cache/54/60/54607fe8945897cdcced0044103b10b6.jpg\" alt=\"Our Band Could Be Your Life: Scenes from the American Indie Underground, 1981-1991\" class=\"thumbnail\"></a>\\n                    \\n                \\n            </div>\\n        \\n\\n        \\n            \\n                <p class=\"star-rating Three\">\\n                    <i class=\"icon-star\"></i>\\n                    <i class=\"icon-star\"></i>\\n                    <i class=\"icon-star\"></i>\\n                    <i class=\"icon-star\"></i>\\n                    <i class=\"icon-star\"></i>\\n                </p>\\n            \\n        \\n\\n        \\n            <h3><a href=\"catalogue/our-band-could-be-your-life-scenes-from-the-american-indie-underground-1981-1991_985/index.html\" title=\"Our Band Could Be Your Life: Scenes from the American Indie Underground, 1981-1991\">Our Band Could Be ...</a></h3>\\n        \\n\\n        \\n            <div class=\"product_price\">\\n                \\n\\n\\n\\n\\n\\n\\n    \\n        <p class=\"price_color\">\\xc3\\x82\\xc2\\xa357.25</p>\\n    \\n\\n<p class=\"instock availability\">\\n    <i class=\"icon-ok\"></i>\\n    \\n        In stock\\n    \\n</p>\\n\\n                \\n                    \\n\\n\\n\\n\\n\\n\\n    \\n    <form>\\n        <button type=\"submit\" class=\"btn btn-primary btn-block\" data-loading-text=\"Adding...\">Add to basket</button>\\n    </form>\\n\\n\\n                \\n            </div>\\n        \\n    </article>\\n\\n</li>\\n                    \\n                        <li class=\"col-xs-6 col-sm-4 col-md-3 col-lg-3\">\\n\\n\\n\\n\\n\\n\\n    <article class=\"product_pod\">\\n        \\n            <div class=\"image_container\">\\n                \\n                    \\n                    <a href=\"catalogue/olio_984/index.html\"><img src=\"media/cache/55/33/553310a7162dfbc2c6d19a84da0df9e1.jpg\" alt=\"Olio\" class=\"thumbnail\"></a>\\n                    \\n                \\n            </div>\\n        \\n\\n        \\n            \\n                <p class=\"star-rating One\">\\n                    <i class=\"icon-star\"></i>\\n                    <i class=\"icon-star\"></i>\\n                    <i class=\"icon-star\"></i>\\n                    <i class=\"icon-star\"></i>\\n                    <i class=\"icon-star\"></i>\\n                </p>\\n            \\n        \\n\\n        \\n            <h3><a href=\"catalogue/olio_984/index.html\" title=\"Olio\">Olio</a></h3>\\n        \\n\\n        \\n            <div class=\"product_price\">\\n                \\n\\n\\n\\n\\n\\n\\n    \\n        <p class=\"price_color\">\\xc3\\x82\\xc2\\xa323.88</p>\\n    \\n\\n<p class=\"instock availability\">\\n    <i class=\"icon-ok\"></i>\\n    \\n        In stock\\n    \\n</p>\\n\\n                \\n                    \\n\\n\\n\\n\\n\\n\\n    \\n    <form>\\n        <button type=\"submit\" class=\"btn btn-primary btn-block\" data-loading-text=\"Adding...\">Add to basket</button>\\n    </form>\\n\\n\\n                \\n            </div>\\n        \\n    </article>\\n\\n</li>\\n                    \\n                        <li class=\"col-xs-6 col-sm-4 col-md-3 col-lg-3\">\\n\\n\\n\\n\\n\\n\\n    <article class=\"product_pod\">\\n        \\n            <div class=\"image_container\">\\n                \\n                    \\n                    <a href=\"catalogue/mesaerion-the-best-science-fiction-stories-1800-1849_983/index.html\"><img src=\"media/cache/09/a3/09a3aef48557576e1a85ba7efea8ecb7.jpg\" alt=\"Mesaerion: The Best Science Fiction Stories 1800-1849\" class=\"thumbnail\"></a>\\n                    \\n                \\n            </div>\\n        \\n\\n        \\n            \\n                <p class=\"star-rating One\">\\n                    <i class=\"icon-star\"></i>\\n                    <i class=\"icon-star\"></i>\\n                    <i class=\"icon-star\"></i>\\n                    <i class=\"icon-star\"></i>\\n                    <i class=\"icon-star\"></i>\\n                </p>\\n            \\n        \\n\\n        \\n            <h3><a href=\"catalogue/mesaerion-the-best-science-fiction-stories-1800-1849_983/index.html\" title=\"Mesaerion: The Best Science Fiction Stories 1800-1849\">Mesaerion: The Best Science ...</a></h3>\\n        \\n\\n        \\n            <div class=\"product_price\">\\n                \\n\\n\\n\\n\\n\\n\\n    \\n        <p class=\"price_color\">\\xc3\\x82\\xc2\\xa337.59</p>\\n    \\n\\n<p class=\"instock availability\">\\n    <i class=\"icon-ok\"></i>\\n    \\n        In stock\\n    \\n</p>\\n\\n                \\n                    \\n\\n\\n\\n\\n\\n\\n    \\n    <form>\\n        <button type=\"submit\" class=\"btn btn-primary btn-block\" data-loading-text=\"Adding...\">Add to basket</button>\\n    </form>\\n\\n\\n                \\n            </div>\\n        \\n    </article>\\n\\n</li>\\n                    \\n                        <li class=\"col-xs-6 col-sm-4 col-md-3 col-lg-3\">\\n\\n\\n\\n\\n\\n\\n    <article class=\"product_pod\">\\n        \\n            <div class=\"image_container\">\\n                \\n                    \\n                    <a href=\"catalogue/libertarianism-for-beginners_982/index.html\"><img src=\"media/cache/0b/bc/0bbcd0a6f4bcd81ccb1049a52736406e.jpg\" alt=\"Libertarianism for Beginners\" class=\"thumbnail\"></a>\\n                    \\n                \\n            </div>\\n        \\n\\n        \\n            \\n                <p class=\"star-rating Two\">\\n                    <i class=\"icon-star\"></i>\\n                    <i class=\"icon-star\"></i>\\n                    <i class=\"icon-star\"></i>\\n                    <i class=\"icon-star\"></i>\\n                    <i class=\"icon-star\"></i>\\n                </p>\\n            \\n        \\n\\n        \\n            <h3><a href=\"catalogue/libertarianism-for-beginners_982/index.html\" title=\"Libertarianism for Beginners\">Libertarianism for Beginners</a></h3>\\n        \\n\\n        \\n            <div class=\"product_price\">\\n                \\n\\n\\n\\n\\n\\n\\n    \\n        <p class=\"price_color\">\\xc3\\x82\\xc2\\xa351.33</p>\\n    \\n\\n<p class=\"instock availability\">\\n    <i class=\"icon-ok\"></i>\\n    \\n        In stock\\n    \\n</p>\\n\\n                \\n                    \\n\\n\\n\\n\\n\\n\\n    \\n    <form>\\n        <button type=\"submit\" class=\"btn btn-primary btn-block\" data-loading-text=\"Adding...\">Add to basket</button>\\n    </form>\\n\\n\\n                \\n            </div>\\n        \\n    </article>\\n\\n</li>\\n                    \\n                        <li class=\"col-xs-6 col-sm-4 col-md-3 col-lg-3\">\\n\\n\\n\\n\\n\\n\\n    <article class=\"product_pod\">\\n        \\n            <div class=\"image_container\">\\n                \\n                    \\n                    <a href=\"catalogue/its-only-the-himalayas_981/index.html\"><img src=\"media/cache/27/a5/27a53d0bb95bdd88288eaf66c9230d7e.jpg\" alt=\"It&#39;s Only the Himalayas\" class=\"thumbnail\"></a>\\n                    \\n                \\n            </div>\\n        \\n\\n        \\n            \\n                <p class=\"star-rating Two\">\\n                    <i class=\"icon-star\"></i>\\n                    <i class=\"icon-star\"></i>\\n                    <i class=\"icon-star\"></i>\\n                    <i class=\"icon-star\"></i>\\n                    <i class=\"icon-star\"></i>\\n                </p>\\n            \\n        \\n\\n        \\n            <h3><a href=\"catalogue/its-only-the-himalayas_981/index.html\" title=\"It&#39;s Only the Himalayas\">It&#39;s Only the Himalayas</a></h3>\\n        \\n\\n        \\n            <div class=\"product_price\">\\n                \\n\\n\\n\\n\\n\\n\\n    \\n        <p class=\"price_color\">\\xc3\\x82\\xc2\\xa345.17</p>\\n    \\n\\n<p class=\"instock availability\">\\n    <i class=\"icon-ok\"></i>\\n    \\n        In stock\\n    \\n</p>\\n\\n                \\n                    \\n\\n\\n\\n\\n\\n\\n    \\n    <form>\\n        <button type=\"submit\" class=\"btn btn-primary btn-block\" data-loading-text=\"Adding...\">Add to basket</button>\\n    </form>\\n\\n\\n                \\n            </div>\\n        \\n    </article>\\n\\n</li>\\n                    \\n                </ol>\\n                \\n\\n\\n\\n    <div>\\n        <ul class=\"pager\">\\n            \\n            <li class=\"current\">\\n            \\n                Page 1 of 50\\n            \\n            </li>\\n            \\n                <li class=\"next\"><a href=\"catalogue/page-2.html\">next</a></li>\\n            \\n        </ul>\\n    </div>\\n\\n\\n            </div>\\n        </section>\\n    \\n\\n\\n            </div>\\n\\n        </div><!-- /row -->\\n    </div><!-- /page_inner -->\\n</div><!-- /container-fluid -->\\n\\n\\n    \\n<footer class=\"footer container-fluid\">\\n    \\n        \\n    \\n</footer>\\n\\n\\n        \\n        \\n  \\n            <!-- jQuery -->\\n            <script src=\"http://ajax.googleapis.com/ajax/libs/jquery/1.9.1/jquery.min.js\"></script>\\n            <script>window.jQuery || document.write(\\'<script src=\"static/oscar/js/jquery/jquery-1.9.1.min.js\"><\\\\/script>\\')</script>\\n        \\n  \\n\\n\\n        \\n        \\n    \\n        \\n    <!-- Twitter Bootstrap -->\\n    <script type=\"text/javascript\" src=\"static/oscar/js/bootstrap3/bootstrap.min.js\"></script>\\n    <!-- Oscar -->\\n    <script src=\"static/oscar/js/oscar/ui.js\" type=\"text/javascript\" charset=\"utf-8\"></script>\\n\\n    <script src=\"static/oscar/js/bootstrap-datetimepicker/bootstrap-datetimepicker.js\" type=\"text/javascript\" charset=\"utf-8\"></script>\\n    <script src=\"static/oscar/js/bootstrap-datetimepicker/locales/bootstrap-datetimepicker.all.js\" type=\"text/javascript\" charset=\"utf-8\"></script>\\n\\n\\n        \\n        \\n    \\n\\n    \\n\\n\\n        \\n        <script type=\"text/javascript\">\\n            $(function() {\\n                \\n    \\n    \\n    oscar.init();\\n\\n    oscar.search.init();\\n\\n            });\\n        </script>\\n\\n        \\n        <!-- Version: N/A -->\\n        \\n    </body>\\n</html>\\n'\n"
          ],
          "name": "stdout"
        }
      ]
    },
    {
      "cell_type": "markdown",
      "metadata": {
        "id": "rM58mnGrzP5t",
        "colab_type": "text"
      },
      "source": [
        "Let's try to get some product information"
      ]
    },
    {
      "cell_type": "code",
      "metadata": {
        "id": "nI8qWfs068lA",
        "colab_type": "code",
        "outputId": "8a5ae03d-00c1-4d40-c3de-bc857be8aa1b",
        "colab": {
          "base_uri": "https://localhost:8080/",
          "height": 34
        }
      },
      "source": [
        "product_url = \"http://books.toscrape.com/catalogue/princess-jellyfish-2-in-1-omnibus-vol-01-princess-jellyfish-2-in-1-omnibus-1_920/index.html\"\n",
        "product_response = requests.get(product_url)\n",
        "scrapy_response = HtmlResponse(url=product_url, body=product_response.text, encoding=\"utf-8\")\n",
        "\n",
        "title = scrapy_response.xpath(\"//div[contains(@class, 'product_main')]/h1/text()\").get()\n",
        "print(title)"
      ],
      "execution_count": 17,
      "outputs": [
        {
          "output_type": "stream",
          "text": [
            "Princess Jellyfish 2-in-1 Omnibus, Vol. 01 (Princess Jellyfish 2-in-1 Omnibus #1)\n"
          ],
          "name": "stdout"
        }
      ]
    },
    {
      "cell_type": "code",
      "metadata": {
        "id": "gAiyj1jo97-y",
        "colab_type": "code",
        "colab": {
          "base_uri": "https://localhost:8080/",
          "height": 54
        },
        "outputId": "6973035b-0e0c-42d4-d8bf-fda57df75697"
      },
      "source": [
        "description = scrapy_response.xpath(\"/html/body/div/div/div[2]/div[2]/article/p/text()\").get()\n",
        "print(description)"
      ],
      "execution_count": 18,
      "outputs": [
        {
          "output_type": "stream",
          "text": [
            "THE LONG-AWAITED STORY OF FANGIRLS TAKING ON TOKYO!Special large-size 2-in-1 edition of over 400 pages!\"One of the best anime and manga for beginners. Enthusiasm - geeky and otherwise - is power in Princess Jellyfish. Enthusiasm saves the day and paves the road to the future.\" - Kotaku\"Princess Jellyfish's ambition is simple: to tell a delightful story in a delightful way. THE LONG-AWAITED STORY OF FANGIRLS TAKING ON TOKYO!Special large-size 2-in-1 edition of over 400 pages!\"One of the best anime and manga for beginners. Enthusiasm - geeky and otherwise - is power in Princess Jellyfish. Enthusiasm saves the day and paves the road to the future.\" - Kotaku\"Princess Jellyfish's ambition is simple: to tell a delightful story in a delightful way... It's a pretty deadly one-two punch.\" - Anime News Network\"Loaded with heart, soul, humor and insight.\" - About.comSTINGING BEAUTY Tsukimi Kurashita has a strange fascination with jellyfish. Sheâs loved them from a young age and has carried that love with her to her new life in the big city of Tokyo. There, she resides in Amamizukan, a safe-haven for girl geeks who regularly gush over a range of things from trains to Japanese dolls. However, a chance meeting at a pet shop has Tsukimi crossing paths with one of the things that the residents of Amamizukan have been desperately trying to avoidâa beautiful and fashionable woman! But thereâs much more to this woman than her trendy clothes! This odd encounter is only the beginning of a new and unexpected path for Tsukimi and her friends. ...more\n"
          ],
          "name": "stdout"
        }
      ]
    },
    {
      "cell_type": "markdown",
      "metadata": {
        "id": "s2QQcEmFzmXm",
        "colab_type": "text"
      },
      "source": [
        "Can you produce the XPaths for the other fields?"
      ]
    },
    {
      "cell_type": "code",
      "metadata": {
        "id": "nZd3oYWkzrWw",
        "colab_type": "code",
        "outputId": "2d9f2b44-e67c-4efe-9a2b-6fe16d6b242e",
        "colab": {
          "base_uri": "https://localhost:8080/",
          "height": 87
        }
      },
      "source": [
        "categories = scrapy_response.xpath(\"/html/body/div/div/ul/li[3]/a/text()\").get()\n",
        "num_stars = scrapy_response.xpath(\"/html/body/div/div/div[2]/div[2]/article/div[1]/div[2]/p[3]/@class\").get().split()[1]\n",
        "description = scrapy_response.xpath(\"/html/body/div/div/div[2]/div[2]/article/p/text()\").get()\n",
        "upc_num = scrapy_response.xpath(\"/html/body/div/div/div[2]/div[2]/article/table/tbody/tr[1]/td\").get()\n",
        "#prod_type = scrapy_response.xpath(\"\").get()\n",
        "#price_with_tax = scrapy_response.xpath(\"\").get()\n",
        "#price_wo_tax = scrapy_response.xpath(\"\").get()\n",
        "#tax = scrapy_response.xpath(\"\").get()\n",
        "#availability = scrapy_response.xpath(\"\").get()\n",
        "#num_reviews = scrapy_response.xpath(\"\").get()\n",
        "\n",
        "print(categories)\n",
        "print(num_stars)\n",
        "print(description)\n",
        "#print(upc_num)\n",
        "#print(prod_type)\n",
        "#print(price_with_tax)\n",
        "#print(price_wo_tax)\n",
        "#print(tax)\n",
        "#print(availability)\n",
        "#print(num_reviews)\"\"\""
      ],
      "execution_count": 37,
      "outputs": [
        {
          "output_type": "stream",
          "text": [
            "Sequential Art\n",
            "Five\n",
            "THE LONG-AWAITED STORY OF FANGIRLS TAKING ON TOKYO!Special large-size 2-in-1 edition of over 400 pages!\"One of the best anime and manga for beginners. Enthusiasm - geeky and otherwise - is power in Princess Jellyfish. Enthusiasm saves the day and paves the road to the future.\" - Kotaku\"Princess Jellyfish's ambition is simple: to tell a delightful story in a delightful way. THE LONG-AWAITED STORY OF FANGIRLS TAKING ON TOKYO!Special large-size 2-in-1 edition of over 400 pages!\"One of the best anime and manga for beginners. Enthusiasm - geeky and otherwise - is power in Princess Jellyfish. Enthusiasm saves the day and paves the road to the future.\" - Kotaku\"Princess Jellyfish's ambition is simple: to tell a delightful story in a delightful way... It's a pretty deadly one-two punch.\" - Anime News Network\"Loaded with heart, soul, humor and insight.\" - About.comSTINGING BEAUTY Tsukimi Kurashita has a strange fascination with jellyfish. Sheâs loved them from a young age and has carried that love with her to her new life in the big city of Tokyo. There, she resides in Amamizukan, a safe-haven for girl geeks who regularly gush over a range of things from trains to Japanese dolls. However, a chance meeting at a pet shop has Tsukimi crossing paths with one of the things that the residents of Amamizukan have been desperately trying to avoidâa beautiful and fashionable woman! But thereâs much more to this woman than her trendy clothes! This odd encounter is only the beginning of a new and unexpected path for Tsukimi and her friends. ...more\n"
          ],
          "name": "stdout"
        }
      ]
    },
    {
      "cell_type": "markdown",
      "metadata": {
        "id": "YsYH9Sfm0UYU",
        "colab_type": "text"
      },
      "source": [
        "XPath possible solutions"
      ]
    },
    {
      "cell_type": "code",
      "metadata": {
        "id": "eRjNDMqczfWV",
        "colab_type": "code",
        "colab": {}
      },
      "source": [
        "categories = scrapy_response.xpath(\"//ul[@class='breadcrumb']/li/a/text()\").getall()[-1]\n",
        "num_stars = len(scrapy_response.xpath(\"//div[contains(@class, 'product_main')]/p[contains(@class, 'star-rating')]/i\").getall())\n",
        "description = scrapy_response.xpath(\"//article/p/text()\").get()\n",
        "upc_num = scrapy_response.xpath(\"//table[contains(@class, 'table-striped')]/tr[1]/td/text()\").get()\n",
        "prod_type = scrapy_response.xpath(\"//table[contains(@class, 'table-striped')]/tr[2]/td/text()\").get()\n",
        "price_with_tax = float(scrapy_response.xpath(\"//table[contains(@class, 'table-striped')]/tr[3]/td/text()\").get()[2:])\n",
        "price_wo_tax = float(scrapy_response.xpath(\"//table[contains(@class, 'table-striped')]/tr[4]/td/text()\").get()[2:])\n",
        "tax = float(scrapy_response.xpath(\"//table[contains(@class, 'table-striped')]/tr[5]/td/text()\").get()[2:])\n",
        "availability = scrapy_response.xpath(\"//table[contains(@class, 'table-striped')]/tr[6]/td/text()\").get()\n",
        "num_reviews = scrapy_response.xpath(\"//table[contains(@class, 'table-striped')]/tr[7]/td/text()\").get()\n",
        "\n",
        "print(title)\n",
        "print(categories)\n",
        "print(num_stars)\n",
        "print(description)\n",
        "print(upc_num)\n",
        "print(prod_type)\n",
        "print(price_with_tax)\n",
        "print(price_wo_tax)\n",
        "print(tax)\n",
        "print(availability)\n",
        "print(num_reviews)"
      ],
      "execution_count": 0,
      "outputs": []
    },
    {
      "cell_type": "markdown",
      "metadata": {
        "id": "RcVJUS6wSAqH",
        "colab_type": "text"
      },
      "source": [
        "Getting the Product Links"
      ]
    },
    {
      "cell_type": "code",
      "metadata": {
        "id": "lqyaXg3sw_ZP",
        "colab_type": "code",
        "colab": {}
      },
      "source": [
        "# response.xpath(\"//article[@class='product_pod']\").getall()\n",
        "# response.xpath(\"//article[@class='product_pod']/h3\").getall()\n",
        "# response.xpath(\"//article[@class='product_pod']/h3/a\").getall()\n",
        "response.xpath(\"//article[@class='product_pod']/h3/a/@href\").getall()\n"
      ],
      "execution_count": 0,
      "outputs": []
    },
    {
      "cell_type": "markdown",
      "metadata": {
        "id": "Le0oZoPF7usU",
        "colab_type": "text"
      },
      "source": [
        "let's find the next link"
      ]
    },
    {
      "cell_type": "code",
      "metadata": {
        "id": "4ZkSLbfa68FB",
        "colab_type": "code",
        "colab": {}
      },
      "source": [
        "response.xpath(\"//li[@class='next']/a/@href\").getall()"
      ],
      "execution_count": 0,
      "outputs": []
    },
    {
      "cell_type": "markdown",
      "metadata": {
        "id": "UcGC9ZJL9VJN",
        "colab_type": "text"
      },
      "source": [
        "putting it all together\n",
        "1. go through all category pages and get all product links\n",
        "2. go to product link and extract all information\n",
        "3. ???\n",
        "4. profit!"
      ]
    },
    {
      "cell_type": "code",
      "metadata": {
        "id": "yvcyHjG8_qTe",
        "colab_type": "code",
        "colab": {}
      },
      "source": [
        "product_info = []\n",
        "start_url = \"http://books.toscrape.com/\"\n",
        "seen_urls = set()\n",
        "\n",
        "def traverse_books(orig_url: str, url: str, product_info: List[Dict], seen_urls: set):\n",
        "  seen_urls.add(url)\n",
        "  response = requests.get(url)\n",
        "  scrapy_response = HtmlResponse(url=start_url, body=response.text, encoding=\"utf-8\")\n",
        "  book_links = scrapy_response.xpath(\"//article[@class='product_pod']/h3/a/@href\").getall()\n",
        "  print(url)\n",
        "  print(book_links)\n",
        "  book_links = [urllib.parse.urljoin(url, url_fragment) for url_fragment in book_links]\n",
        "  for book_link in book_links:\n",
        "    if book_link not in seen_urls:\n",
        "      get_book_info(url=book_link, product_info=product_info, seen_urls=seen_urls)\n",
        "  \n",
        "  \n",
        "  next_link = urllib.parse.urljoin(url, scrapy_response.xpath(\"//li[@class='next']/a/@href\").get())\n",
        "  if next_link not in seen_urls:\n",
        "    traverse_books(orig_url=orig_url, url=next_link, product_info=product_info, seen_urls=seen_urls)\n",
        "\n",
        "    \n",
        "    \n",
        "def get_book_info(url: str, product_info: List[Dict], seen_urls: set):\n",
        "  seen_urls.add(url)\n",
        "  response = requests.get(url)\n",
        "  scrapy_response = HtmlResponse(url=start_url, body=response.text, encoding=\"utf-8\")\n",
        "  categories = scrapy_response.xpath(\"//ul[@class='breadcrumb']/li/a/text()\").getall() or [\"\"]\n",
        "  \n",
        "  try:\n",
        "    new_prod = {\n",
        "        \"title\": scrapy_response.xpath(\"//div[contains(@class, 'product_main')]/h1/text()\").get(),\n",
        "        \"categories\": categories[-1],\n",
        "        \"num_stars\": len(scrapy_response.xpath(\"//div[contains(@class, 'product_main')]/p[contains(@class, 'star-rating')]/i\").getall()),\n",
        "        \"description\": scrapy_response.xpath(\"//article/p/text()\").get(),\n",
        "        \"upc_num\": scrapy_response.xpath(\"//table[contains(@class, 'table-striped')]/tr[1]/td/text()\").get(),\n",
        "        \"prod_type\": scrapy_response.xpath(\"//table[contains(@class, 'table-striped')]/tr[2]/td/text()\").get(),\n",
        "        \"price_with_tax\": float(scrapy_response.xpath(\"//table[contains(@class, 'table-striped')]/tr[3]/td/text()\").get()[2:]),\n",
        "        \"price_wo_tax\": float(scrapy_response.xpath(\"//table[contains(@class, 'table-striped')]/tr[4]/td/text()\").get()[2:]),\n",
        "        \"tax\": float(scrapy_response.xpath(\"//table[contains(@class, 'table-striped')]/tr[5]/td/text()\").get()[2:]),\n",
        "        \"availability\": scrapy_response.xpath(\"//table[contains(@class, 'table-striped')]/tr[6]/td/text()\").get(),\n",
        "        \"num_reviews\": scrapy_response.xpath(\"//table[contains(@class, 'table-striped')]/tr[7]/td/text()\").get()\n",
        "    }\n",
        "    product_info.append(new_prod)\n",
        "  except Exception as e:\n",
        "    print(e)\n",
        "    print(url)\n",
        "  \n",
        "  \n",
        "\n",
        "  \n",
        "traverse_books(orig_url=start_url, url=start_url, product_info=product_info, seen_urls=seen_urls)\n",
        "print(product_info)\n",
        "\n"
      ],
      "execution_count": 0,
      "outputs": []
    },
    {
      "cell_type": "markdown",
      "metadata": {
        "id": "E37YhaiDhae5",
        "colab_type": "text"
      },
      "source": [
        "Here's the raw data :)"
      ]
    },
    {
      "cell_type": "code",
      "metadata": {
        "id": "U0ASayP2Oio1",
        "colab_type": "code",
        "colab": {}
      },
      "source": [
        "print(len(product_info))\n",
        "for product in product_info:\n",
        "  print(product)\n"
      ],
      "execution_count": 0,
      "outputs": []
    },
    {
      "cell_type": "code",
      "metadata": {
        "id": "siromm7Cbmk9",
        "colab_type": "code",
        "colab": {}
      },
      "source": [
        ""
      ],
      "execution_count": 0,
      "outputs": []
    },
    {
      "cell_type": "markdown",
      "metadata": {
        "id": "o4YOTslMjEc8",
        "colab_type": "text"
      },
      "source": [
        "Let's try to scrape CraigsList for books https://toronto.craigslist.org/search/bka. Let's try to apply the same steps as the example website:\n",
        "\n",
        "\n",
        "\n",
        "1.   get the relevant XPaths\n",
        "  *   identify the XPaths for each field we want in the product page\n",
        "  *   identify the XPaths for each product link for traversal\n",
        "  *   identify the XPath for the next link in the page for traversal\n",
        "2.   modify starter code to save all the products as a list\n",
        "3.   visualize it a little bit\n",
        "\n",
        "\n",
        "\n",
        "\n",
        "\n",
        "\n"
      ]
    },
    {
      "cell_type": "code",
      "metadata": {
        "id": "uyYWGeHNjZxr",
        "colab_type": "code",
        "colab": {}
      },
      "source": [
        ""
      ],
      "execution_count": 0,
      "outputs": []
    }
  ]
}